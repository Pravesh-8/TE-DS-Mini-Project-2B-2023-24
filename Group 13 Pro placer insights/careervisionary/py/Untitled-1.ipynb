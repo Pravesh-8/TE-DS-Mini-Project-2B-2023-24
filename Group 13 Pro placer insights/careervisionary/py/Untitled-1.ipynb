{
 "cells": [
  {
   "cell_type": "code",
   "execution_count": 5,
   "metadata": {},
   "outputs": [],
   "source": [
    "import pandas as pd\n",
    "import numpy as np\n",
    "import pickle\n",
    "career = pd.read_csv('dataset9000.data', header = None)\n",
    "#np.dtype('float64')"
   ]
  },
  {
   "cell_type": "code",
   "execution_count": 6,
   "metadata": {},
   "outputs": [
    {
     "name": "stdout",
     "output_type": "stream",
     "text": [
      "[[9 1 1 ... 1 1 1]\n",
      " [9 2 1 ... 1 1 1]\n",
      " [9 3 1 ... 1 1 1]\n",
      " ...\n",
      " [1 1 1 ... 6 6 9]\n",
      " [1 1 1 ... 7 7 9]\n",
      " [1 1 1 ... 7 5 9]]\n",
      "hi\n",
      "['Database Administrator' 'Database Administrator'\n",
      " 'Database Administrator' ... 'Graphics Designer' 'Graphics Designer'\n",
      " 'Graphics Designer']\n"
     ]
    }
   ],
   "source": [
    "X = np.array(career.iloc[:, 0:17]) #X is skills\n",
    "print(X)\n",
    "y = np.array(career.iloc[:, 17]) #Y is Roles\n",
    "print(\"hi\")\n",
    "print(y)"
   ]
  },
  {
   "cell_type": "code",
   "execution_count": 14,
   "metadata": {},
   "outputs": [
    {
     "name": "stdout",
     "output_type": "stream",
     "text": [
      "X_train [[6 6 6 ... 6 6 6]\n",
      " [2 2 9 ... 2 2 2]\n",
      " [3 3 3 ... 3 3 9]\n",
      " ...\n",
      " [3 3 3 ... 3 3 3]\n",
      " [1 1 1 ... 1 1 1]\n",
      " [2 9 2 ... 2 6 6]]\n",
      "y_train ['Project Manager' 'Application Support Engineer' 'Graphics Designer' ...\n",
      " 'Software Developer' 'AI ML Specialist' 'Hardware Engineer']\n",
      "y_pred ['Software Tester' 'Hardware Engineer' 'Customer Service Executive' ...\n",
      " 'Business Analyst' 'Technical Writer' 'API Integration Specialist']\n",
      "Accuracy= 97.13144517066085\n",
      "test file created\n"
     ]
    }
   ],
   "source": [
    "##  attribute to return the column labels of the given Dataframe\n",
    "career.columns = [\"Database Fundamentals\",\"Computer Architecture\",\"Distributed Computing Systems\",\n",
    "\"Cyber Security\",\"Networking\",\"Development\",\"Programming Skills\",\"Project Management\",\n",
    "\"Computer Forensics Fundamentals\",\"Technical Communication\",\"AI ML\",\"Software Engineering\",\"Business Analysis\",\n",
    "\"Communication skills\",\"Data Science\",\"Troubleshooting skills\",\"Graphics Designing\",\"Roles\"]\n",
    "\n",
    "career.dropna(how ='all', inplace = True)\n",
    "#print(\"career.dropna(how ='all', inplace = True)\",career.dropna(how ='all', inplace = True))\n",
    "career.head()\n",
    "## splitting the data into training and test sets \n",
    "from sklearn.model_selection import train_test_split \n",
    "X_train, X_test, y_train, y_test = train_test_split(X, y,test_size = 0.3, random_state = 524)\n",
    "from sklearn.neighbors import KNeighborsClassifier\n",
    "from sklearn import metrics\n",
    "scores = {}\n",
    "knn = KNeighborsClassifier(n_neighbors=5)\n",
    "\n",
    "knn.fit(X_train, y_train)\n",
    "print('X_train',X_train)\n",
    "print('y_train',y_train)\n",
    "y_pred = knn.predict(X_test)\n",
    "print('y_pred',y_pred)\n",
    "scores[5] = metrics.accuracy_score(y_test, y_pred)\n",
    "print('Accuracy=',scores[5]*100)\n",
    "\n",
    "pickle.dump(knn, open('careerlast.pkl','wb'))\n",
    "print('test file created')\n"
   ]
  }
 ],
 "metadata": {
  "kernelspec": {
   "display_name": "Python 3",
   "language": "python",
   "name": "python3"
  },
  "language_info": {
   "codemirror_mode": {
    "name": "ipython",
    "version": 3
   },
   "file_extension": ".py",
   "mimetype": "text/x-python",
   "name": "python",
   "nbconvert_exporter": "python",
   "pygments_lexer": "ipython3",
   "version": "3.11.2"
  },
  "orig_nbformat": 4
 },
 "nbformat": 4,
 "nbformat_minor": 2
}
