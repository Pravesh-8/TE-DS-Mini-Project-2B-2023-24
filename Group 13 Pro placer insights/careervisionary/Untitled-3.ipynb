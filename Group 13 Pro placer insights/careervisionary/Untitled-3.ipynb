{
 "cells": [
  {
   "cell_type": "code",
   "execution_count": 1,
   "metadata": {},
   "outputs": [
    {
     "name": "stdout",
     "output_type": "stream",
     "text": [
      "   0   1   2   3   4   5   6   7   8   9   10  11  12  13  14  15  16  \\\n",
      "0   9   1   1   1   1   1   1   1   1   1   1   1   1   1   1   1   1   \n",
      "1   9   2   1   1   1   1   1   1   1   1   1   1   1   1   1   1   1   \n",
      "2   9   3   1   1   1   1   1   1   1   1   1   1   1   1   1   1   1   \n",
      "3   9   5   1   1   1   1   1   1   1   1   1   1   1   1   1   1   1   \n",
      "4   9   6   1   1   1   1   1   1   1   1   1   1   1   1   1   1   1   \n",
      "\n",
      "                       17  \n",
      "0  Database Administrator  \n",
      "1  Database Administrator  \n",
      "2  Database Administrator  \n",
      "3  Database Administrator  \n",
      "4  Database Administrator  \n",
      "[[9 1 1 ... 1 1 1]\n",
      " [9 2 1 ... 1 1 1]\n",
      " [9 3 1 ... 1 1 1]\n",
      " ...\n",
      " [1 1 1 ... 6 6 9]\n",
      " [1 1 1 ... 7 7 9]\n",
      " [1 1 1 ... 7 5 9]]\n",
      "['Database Administrator' 'Database Administrator'\n",
      " 'Database Administrator' ... 'Graphics Designer' 'Graphics Designer'\n",
      " 'Graphics Designer']\n"
     ]
    },
    {
     "name": "stderr",
     "output_type": "stream",
     "text": [
      "c:\\Users\\anura\\AppData\\Local\\Programs\\Python\\Python311\\Lib\\site-packages\\sklearn\\ensemble\\_base.py:156: FutureWarning: `base_estimator` was renamed to `estimator` in version 1.2 and will be removed in 1.4.\n",
      "  warnings.warn(\n",
      "c:\\Users\\anura\\AppData\\Local\\Programs\\Python\\Python311\\Lib\\site-packages\\sklearn\\ensemble\\_base.py:156: FutureWarning: `base_estimator` was renamed to `estimator` in version 1.2 and will be removed in 1.4.\n",
      "  warnings.warn(\n",
      "c:\\Users\\anura\\AppData\\Local\\Programs\\Python\\Python311\\Lib\\site-packages\\sklearn\\ensemble\\_base.py:156: FutureWarning: `base_estimator` was renamed to `estimator` in version 1.2 and will be removed in 1.4.\n",
      "  warnings.warn(\n",
      "c:\\Users\\anura\\AppData\\Local\\Programs\\Python\\Python311\\Lib\\site-packages\\sklearn\\ensemble\\_base.py:156: FutureWarning: `base_estimator` was renamed to `estimator` in version 1.2 and will be removed in 1.4.\n",
      "  warnings.warn(\n",
      "c:\\Users\\anura\\AppData\\Local\\Programs\\Python\\Python311\\Lib\\site-packages\\sklearn\\ensemble\\_base.py:156: FutureWarning: `base_estimator` was renamed to `estimator` in version 1.2 and will be removed in 1.4.\n",
      "  warnings.warn(\n",
      "c:\\Users\\anura\\AppData\\Local\\Programs\\Python\\Python311\\Lib\\site-packages\\sklearn\\ensemble\\_base.py:156: FutureWarning: `base_estimator` was renamed to `estimator` in version 1.2 and will be removed in 1.4.\n",
      "  warnings.warn(\n",
      "c:\\Users\\anura\\AppData\\Local\\Programs\\Python\\Python311\\Lib\\site-packages\\sklearn\\ensemble\\_base.py:156: FutureWarning: `base_estimator` was renamed to `estimator` in version 1.2 and will be removed in 1.4.\n",
      "  warnings.warn(\n",
      "c:\\Users\\anura\\AppData\\Local\\Programs\\Python\\Python311\\Lib\\site-packages\\sklearn\\ensemble\\_base.py:156: FutureWarning: `base_estimator` was renamed to `estimator` in version 1.2 and will be removed in 1.4.\n",
      "  warnings.warn(\n",
      "c:\\Users\\anura\\AppData\\Local\\Programs\\Python\\Python311\\Lib\\site-packages\\sklearn\\ensemble\\_base.py:156: FutureWarning: `base_estimator` was renamed to `estimator` in version 1.2 and will be removed in 1.4.\n",
      "  warnings.warn(\n",
      "c:\\Users\\anura\\AppData\\Local\\Programs\\Python\\Python311\\Lib\\site-packages\\sklearn\\ensemble\\_base.py:156: FutureWarning: `base_estimator` was renamed to `estimator` in version 1.2 and will be removed in 1.4.\n",
      "  warnings.warn(\n",
      "c:\\Users\\anura\\AppData\\Local\\Programs\\Python\\Python311\\Lib\\site-packages\\sklearn\\ensemble\\_base.py:156: FutureWarning: `base_estimator` was renamed to `estimator` in version 1.2 and will be removed in 1.4.\n",
      "  warnings.warn(\n",
      "c:\\Users\\anura\\AppData\\Local\\Programs\\Python\\Python311\\Lib\\site-packages\\sklearn\\ensemble\\_base.py:156: FutureWarning: `base_estimator` was renamed to `estimator` in version 1.2 and will be removed in 1.4.\n",
      "  warnings.warn(\n",
      "c:\\Users\\anura\\AppData\\Local\\Programs\\Python\\Python311\\Lib\\site-packages\\sklearn\\ensemble\\_base.py:156: FutureWarning: `base_estimator` was renamed to `estimator` in version 1.2 and will be removed in 1.4.\n",
      "  warnings.warn(\n",
      "c:\\Users\\anura\\AppData\\Local\\Programs\\Python\\Python311\\Lib\\site-packages\\sklearn\\ensemble\\_base.py:156: FutureWarning: `base_estimator` was renamed to `estimator` in version 1.2 and will be removed in 1.4.\n",
      "  warnings.warn(\n",
      "c:\\Users\\anura\\AppData\\Local\\Programs\\Python\\Python311\\Lib\\site-packages\\sklearn\\ensemble\\_base.py:156: FutureWarning: `base_estimator` was renamed to `estimator` in version 1.2 and will be removed in 1.4.\n",
      "  warnings.warn(\n"
     ]
    },
    {
     "name": "stdout",
     "output_type": "stream",
     "text": [
      "accuracy: 100.0\n"
     ]
    }
   ],
   "source": [
    "from sklearn import model_selection\n",
    "from sklearn.ensemble import BaggingClassifier\n",
    "from sklearn.tree import DecisionTreeClassifier\n",
    "import pandas as pd\n",
    "import numpy as np\n",
    "\n",
    "# load the data\n",
    "dataset = pd.read_csv('dataset9000.data', header=None)\n",
    "print(dataset.head())\n",
    "X = np.array(dataset.iloc[:, 0:17])\n",
    "print(X)\n",
    "Y = np.array(dataset.iloc[:, 17])\n",
    "print(Y)\n",
    "dataset.columns = [\"Database Fundamentals\", \"Computer Architecture\", \"Distributed Computing Systems\",\n",
    "                   \"Cyber-Security\", \"Networking\", \"Development\", \"Programming Skills\", \"Project Management\",\n",
    "                   \"Computer Forensics Fundamentals\", \"Technical Communication\", \"AI ML\", \"Software Engineering\",\n",
    "                   \"Business Analysis\", \"Communication skills\", \"Data Science\", \"Troubleshooting-skills\",\n",
    "                   \"Graphics Designing\", \"Roles\"]\n",
    "dataset.dropna(how='all', inplace=True)\n",
    "\n",
    "seed = 5\n",
    "kfold = model_selection.KFold(n_splits=15, shuffle=True, random_state=seed)\n",
    "\n",
    "# initialize the base classifier\n",
    "base_cls = DecisionTreeClassifier()\n",
    "\n",
    "# no. of base classifier\n",
    "num_trees = 50\n",
    "\n",
    "# bagging classifier\n",
    "model = BaggingClassifier(base_estimator=base_cls,\n",
    "                          n_estimators=num_trees,\n",
    "                          random_state=seed)\n",
    "\n",
    "results = model_selection.cross_val_score(model, X, Y, cv=kfold)\n",
    "print(\"accuracy:\", results.mean() * 100)\n"
   ]
  }
 ],
 "metadata": {
  "kernelspec": {
   "display_name": "Python 3",
   "language": "python",
   "name": "python3"
  },
  "language_info": {
   "codemirror_mode": {
    "name": "ipython",
    "version": 3
   },
   "file_extension": ".py",
   "mimetype": "text/x-python",
   "name": "python",
   "nbconvert_exporter": "python",
   "pygments_lexer": "ipython3",
   "version": "3.11.1"
  },
  "orig_nbformat": 4
 },
 "nbformat": 4,
 "nbformat_minor": 2
}
